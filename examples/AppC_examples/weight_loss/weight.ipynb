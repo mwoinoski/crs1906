{
 "cells": [
  {
   "cell_type": "markdown",
   "metadata": {},
   "source": [
    "### Init"
   ]
  },
  {
   "cell_type": "code",
   "execution_count": 1,
   "metadata": {},
   "outputs": [
    {
     "name": "stdout",
     "output_type": "stream",
     "text": [
      "Populating the interactive namespace from numpy and matplotlib\n"
     ]
    }
   ],
   "source": [
    "import warnings\n",
    "warnings.filterwarnings('ignore')\n",
    "%pylab inline\n",
    "pylab.rcParams['figure.figsize'] = 12, 8"
   ]
  },
  {
   "cell_type": "code",
   "execution_count": 2,
   "metadata": {},
   "outputs": [],
   "source": [
    "import datetime\n",
    "from itertools import chain\n",
    "\n",
    "import matplotlib.dates as mdates\n",
    "\n",
    "from IPython.display import HTML, Image, YouTubeVideo"
   ]
  },
  {
   "cell_type": "markdown",
   "metadata": {},
   "source": [
    "### Formulas"
   ]
  },
  {
   "cell_type": "code",
   "execution_count": 3,
   "metadata": {},
   "outputs": [],
   "source": [
    "def bmi2weight(height, heightUnit, bmi, weightUnit):\n",
    "    if heightUnit == \"ft\":\n",
    "        height *= 0.3048\n",
    "    weightInKg = bmi * height**2\n",
    "    if weightUnit == \"lbs\":\n",
    "        weightInKg *= 2.20462262\n",
    "    return weightInKg"
   ]
  },
  {
   "cell_type": "markdown",
   "metadata": {},
   "source": [
    "### Data"
   ]
  },
  {
   "cell_type": "code",
   "execution_count": 4,
   "metadata": {},
   "outputs": [],
   "source": [
    "series = \"\"\"\n",
    "2014-05-01 110.1\n",
    "2014-05-07 108.0\n",
    "2014-05-20 102.9\n",
    "2014-06-12 101.2\n",
    "\"\"\"\n",
    "dateFormat = \"%Y-%m-%d\"\n",
    "weightUnit = \"Kg\" # lbs\n",
    "\n",
    "# bmi parameter\n",
    "height = 1.78\n",
    "heightUnit = \"m\" # ft\n",
    "\n",
    "# plot\n",
    "minY  = 80.0\n",
    "maxY  = 130.0\n",
    "\n",
    "# fit\n",
    "future = 14 # days\n",
    "goals  = [95, 92, 87] # enter your goals\n",
    "#goals  = [b2w(25)]\n",
    "\n",
    "# motivation\n",
    "starEvery = 5\n",
    "video = True"
   ]
  },
  {
   "cell_type": "markdown",
   "metadata": {},
   "source": [
    "### Prepare data for plotting"
   ]
  },
  {
   "cell_type": "code",
   "execution_count": 5,
   "metadata": {},
   "outputs": [],
   "source": [
    "raw = (line.rstrip().split(\" \") for line in iter(series.splitlines()) if len(line.rstrip()) > 0)\n",
    "interpreted = [(datetime.datetime.strptime(k, dateFormat), float(v)) for k, v in raw]\n",
    "xData, yData = list(zip(*interpreted))\n",
    "xFuture = tuple(xData[-1] + datetime.timedelta(days=i) for i in range(future))"
   ]
  },
  {
   "cell_type": "markdown",
   "metadata": {},
   "source": [
    "### Statistics"
   ]
  },
  {
   "cell_type": "code",
   "execution_count": 6,
   "metadata": {},
   "outputs": [
    {
     "data": {
      "text/html": [
       "Data recorded for <strong>42 days (6 weeks)</strong><br />\n",
       "Last difference: <strong>-1.7 Kg</strong><br />Total loss: <strong>-8.9 Kg</strong><br />Loss per Week: <strong>-1.48 Kg</strong><br />\n",
       "Stars (5 Kg each):\n",
       "<table><tr>\n",
       "<td>\n",
       "<img src=\"r-is-for-rocket.svg\" width=\"50px\"></img>\n",
       "</td>\n",
       "</tr></table>"
      ],
      "text/plain": [
       "<IPython.core.display.HTML object>"
      ]
     },
     "execution_count": 6,
     "metadata": {},
     "output_type": "execute_result"
    }
   ],
   "source": [
    "s = []\n",
    "w = s.append\n",
    "\n",
    "diff = 0\n",
    "\n",
    "if len(yData) > 1:\n",
    "    days  = str(xData[-1] - xData[0])[:-9]\n",
    "    weeks = float(days[:-5]) / float(7)\n",
    "    w(\"Data recorded for <strong>{} ({:.0f} weeks)</strong><br />\".format(days, weeks))    \n",
    "    diff = yData[-1] - yData[-2]\n",
    "    diffStart = yData[-1] - yData[0]\n",
    "    diffPerWeek = diffStart / weeks\n",
    "    w(\"Last difference: <strong>{} {}</strong><br />\"\n",
    "      \"Total loss: <strong>{} {}</strong><br />\"\n",
    "      \"Loss per Week: <strong>{} {}</strong><br />\".format(round(diff, 2), weightUnit, \n",
    "                                                   round(diffStart, 2), weightUnit,\n",
    "                                                   round(diffPerWeek, 2), weightUnit))\n",
    "    \n",
    "    w( \"Stars ({} {} each):\".format(starEvery, weightUnit))\n",
    "    w(\"<table><tr>\")\n",
    "    for i in range(abs(int(diffStart / starEvery))):\n",
    "        w(\"<td>\")\n",
    "        w(\"<img src=\\\"r-is-for-rocket.svg\\\" width=\\\"50px\\\"></img>\")    \n",
    "        w(\"</td>\")\n",
    "    w(\"</tr></table>\")\n",
    "else:\n",
    "    w(\"Not enough data!\")\n",
    "    \n",
    "h = HTML(\"\\n\".join(str(e) for e in s)); h"
   ]
  },
  {
   "cell_type": "code",
   "execution_count": 7,
   "metadata": {},
   "outputs": [
    {
     "data": {
      "image/jpeg": "[encoded data removed]",
      "text/html": [
       "\n",
       "        <iframe\n",
       "            width=\"400\"\n",
       "            height=\"300\"\n",
       "            src=\"https://www.youtube.com/embed/-0tp3n4opRI?autoplay=1&theme=light\"\n",
       "            frameborder=\"0\"\n",
       "            allowfullscreen\n",
       "            \n",
       "        ></iframe>\n",
       "        "
      ],
      "text/plain": [
       "<IPython.lib.display.YouTubeVideo at 0x16ab246d348>"
      ]
     },
     "execution_count": 7,
     "metadata": {},
     "output_type": "execute_result"
    }
   ],
   "source": [
    "vid = '-0tp3n4opRI' if diff < 0 else \"VlZRLkPXQqQ\"\n",
    "v = None\n",
    "if video:\n",
    "    v = YouTubeVideo(vid, autoplay=1, theme=\"light\") \n",
    "v"
   ]
  },
  {
   "cell_type": "markdown",
   "metadata": {},
   "source": [
    "### Plot data"
   ]
  },
  {
   "cell_type": "code",
   "execution_count": 8,
   "metadata": {},
   "outputs": [
    {
     "data": {
      "image/png": "[encoded data removed]",
      "text/plain": [
       "<Figure size 864x576 with 1 Axes>"
      ]
     },
     "metadata": {
      "needs_background": "light"
     },
     "output_type": "display_data"
    }
   ],
   "source": [
    "# errorbars for differences between measurements\n",
    "yerr = list(chain([0],[(lambda v: 0 if v > 0 else v)(x - yData[i - 1]) for i, x in enumerate(yData) if i > 0]))\n",
    "errorbar(xData, yData, yerr = yerr, fmt = 'o-', label = \"\")\n",
    "\n",
    "# prepare fit\n",
    "fit_x = mdates.date2num(xData)\n",
    "fit = polyfit(fit_x, yData, 1)\n",
    "fit_color = \"red\" if fit[0] > 0 else \"green\"\n",
    "fit_fn = poly1d(fit)\n",
    "\n",
    "# draw fit\n",
    "fit_x_future = np.append(fit_x, mdates.date2num(xFuture))\n",
    "plot(fit_x_future, fit_fn(fit_x_future), '--k',  color = fit_color, label = \"\")\n",
    "ylabel(\"Weight [1/{}]\".format(weightUnit))\n",
    "xlabel(\"Time\")\n",
    "ylim(ymin=minY, ymax=maxY);\n",
    "\n",
    "# draw bmi limits\n",
    "b2w = lambda bmi: bmi2weight(height, heightUnit, bmi, weightUnit)\n",
    "    \n",
    "axhline(color='green',  y = b2w(25.0)) # limit normal\n",
    "axhline(color='yellow', y = b2w(30.0)) # limit preadipositas\n",
    "axhline(color='orange', y = b2w(35.0)) # limit adipositas_I\n",
    "axhline(color='red',    y = b2w(40.0)) # limit adipositas_II\n",
    "\n",
    "gcf().autofmt_xdate()\n",
    "grid()\n"
   ]
  },
  {
   "cell_type": "markdown",
   "metadata": {},
   "source": [
    "### Prognosis"
   ]
  },
  {
   "cell_type": "code",
   "execution_count": 9,
   "metadata": {
    "jupyter": {
     "outputs_hidden": false
    }
   },
   "outputs": [
    {
     "data": {
      "text/html": [
       "<table>\n",
       "<tr>\n",
       "<th>Goal</th>\n",
       "<th>Prognosis</th>\n",
       "</tr>\n",
       "<tr>\n",
       "<td>\n",
       "95\n",
       "</td>\n",
       "<td>\n",
       "<font color=\"green\">\n",
       "2014-06-30\n",
       "</font>\n",
       "</td>\n",
       "</tr>\n",
       "<tr>\n",
       "<td>\n",
       "92\n",
       "</td>\n",
       "<td>\n",
       "<font color=\"green\">\n",
       "2014-07-12\n",
       "</font>\n",
       "</td>\n",
       "</tr>\n",
       "<tr>\n",
       "<td>\n",
       "87\n",
       "</td>\n",
       "<td>\n",
       "<font color=\"green\">\n",
       "2014-08-02\n",
       "</font>\n",
       "</td>\n",
       "</tr>\n",
       "</table>"
      ],
      "text/plain": [
       "<IPython.core.display.HTML object>"
      ]
     },
     "execution_count": 9,
     "metadata": {},
     "output_type": "execute_result"
    }
   ],
   "source": [
    "fit_fn = poly1d(polyfit(yData, fit_x, 1)) \n",
    "\n",
    "s = []\n",
    "w = s.append\n",
    "w(\"<table>\")\n",
    "w(\"<tr>\")\n",
    "w(\"<th>Goal</th>\")\n",
    "w(\"<th>Prognosis</th>\")\n",
    "w(\"</tr>\")\n",
    "\n",
    "for goal in goals:\n",
    "    w(\"<tr>\")\n",
    "    w(\"<td>\")\n",
    "    w(goal)\n",
    "    w(\"</td>\")\n",
    "    w(\"<td>\")\n",
    "    target = mdates.num2date(fit_fn(goal))\n",
    "    td = datetime.datetime.today()\n",
    "    if datetime.datetime(td.year, td.month, td.day) <= datetime.datetime(target.year, target.month, target.day):\n",
    "        w(\"<font color=\\\"purple\\\">\")\n",
    "        w(str(target)[:10])\n",
    "        w(\"</font>\")\n",
    "    else:\n",
    "        w(\"<font color=\\\"green\\\">\")\n",
    "        w(str(target)[:10])\n",
    "        w(\"</font>\")\n",
    "    w(\"</td>\")\n",
    "    w(\"</tr>\")\n",
    "\n",
    "w(\"</table>\")\n",
    "h = HTML(\"\\n\".join(str(e) for e in s)); h\n"
   ]
  },
  {
   "cell_type": "code",
   "execution_count": null,
   "metadata": {},
   "outputs": [],
   "source": []
  }
 ],
 "metadata": {
  "kernelspec": {
   "display_name": "Python 3 (ipykernel)",
   "language": "python",
   "name": "python3"
  },
  "language_info": {
   "codemirror_mode": {
    "name": "ipython",
    "version": 3
   },
   "file_extension": ".py",
   "mimetype": "text/x-python",
   "name": "python",
   "nbconvert_exporter": "python",
   "pygments_lexer": "ipython3",
   "version": "3.7.7"
  }
 },
 "nbformat": 4,
 "nbformat_minor": 4
}
